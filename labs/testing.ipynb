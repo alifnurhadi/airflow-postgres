{
 "cells": [
  {
   "cell_type": "code",
   "execution_count": 1,
   "metadata": {},
   "outputs": [],
   "source": [
    "import polars as pl\n",
    "from datetime import datetime, timedelta\n",
    "\n",
    "# Generate dummy data\n",
    "data = {\n",
    "    'date': [\n",
    "        '2023-01-15', \n",
    "        '2023-02-20', \n",
    "        '2023-03-10', \n",
    "        '2023-04-05', \n",
    "        '2023-05-22'\n",
    "    ],\n",
    "    'volume': [\n",
    "        '1000', \n",
    "        '1500', \n",
    "        '1200', \n",
    "        '1800', \n",
    "        '2000'\n",
    "    ],\n",
    "    'stock': [\n",
    "        'AAPL', \n",
    "        'GOOGL', \n",
    "        'MSFT', \n",
    "        'AMZN', \n",
    "        'NVDA'\n",
    "    ]\n",
    "}\n"
   ]
  },
  {
   "cell_type": "code",
   "execution_count": 2,
   "metadata": {},
   "outputs": [
    {
     "name": "stdout",
     "output_type": "stream",
     "text": [
      "Original DataFrame:\n",
      "shape: (5, 3)\n",
      "┌────────────┬────────┬───────┐\n",
      "│ date       ┆ volume ┆ stock │\n",
      "│ ---        ┆ ---    ┆ ---   │\n",
      "│ str        ┆ str    ┆ str   │\n",
      "╞════════════╪════════╪═══════╡\n",
      "│ 2023-01-15 ┆ 1000   ┆ AAPL  │\n",
      "│ 2023-02-20 ┆ 1500   ┆ GOOGL │\n",
      "│ 2023-03-10 ┆ 1200   ┆ MSFT  │\n",
      "│ 2023-04-05 ┆ 1800   ┆ AMZN  │\n",
      "│ 2023-05-22 ┆ 2000   ┆ NVDA  │\n",
      "└────────────┴────────┴───────┘\n",
      "\n",
      "Transformed DataFrame:\n",
      "shape: (5, 3)\n",
      "┌────────────┬────────┬───────┐\n",
      "│ date       ┆ volume ┆ stock │\n",
      "│ ---        ┆ ---    ┆ ---   │\n",
      "│ date       ┆ i64    ┆ str   │\n",
      "╞════════════╪════════╪═══════╡\n",
      "│ 2023-01-15 ┆ 1000   ┆ AAPL  │\n",
      "│ 2023-02-20 ┆ 1500   ┆ GOOGL │\n",
      "│ 2023-03-10 ┆ 1200   ┆ MSFT  │\n",
      "│ 2023-04-05 ┆ 1800   ┆ AMZN  │\n",
      "│ 2023-05-22 ┆ 2000   ┆ NVDA  │\n",
      "└────────────┴────────┴───────┘\n"
     ]
    }
   ],
   "source": [
    "\n",
    "# Create the DataFrame\n",
    "df = pl.DataFrame(data)\n",
    "\n",
    "# Demonstrate the transformation\n",
    "test = df.with_columns([\n",
    "    pl.col('date').str.to_date(),\n",
    "    pl.col('volume').cast(pl.Int64)\n",
    "])\n",
    "\n",
    "print(\"Original DataFrame:\")\n",
    "print(df)\n",
    "print(\"\\nTransformed DataFrame:\")\n",
    "print(test)"
   ]
  }
 ],
 "metadata": {
  "kernelspec": {
   "display_name": "hack8",
   "language": "python",
   "name": "python3"
  },
  "language_info": {
   "codemirror_mode": {
    "name": "ipython",
    "version": 3
   },
   "file_extension": ".py",
   "mimetype": "text/x-python",
   "name": "python",
   "nbconvert_exporter": "python",
   "pygments_lexer": "ipython3",
   "version": "3.9.19"
  }
 },
 "nbformat": 4,
 "nbformat_minor": 2
}
